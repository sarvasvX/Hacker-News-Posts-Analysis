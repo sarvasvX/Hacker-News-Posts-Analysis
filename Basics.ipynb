{
 "cells": [
  {
   "cell_type": "markdown",
   "metadata": {},
   "source": [
    "# Exploring Hacker News Posts"
   ]
  },
  {
   "cell_type": "markdown",
   "metadata": {},
   "source": [
    "In this project, we'll compare two different types of posts from <strong><u>Hacker News</u></strong>, a popular site where technology related stories (or 'posts') are voted and commented upon. The two types of posts we'll explore begin with either Ask HN or Show HN.\n",
    "\n",
    "Users submit <strong><u>Ask HN</u></strong> posts to ask the Hacker News community a specific question, such as \"What is the best online course you've ever taken?\" Likewise, users submit <strong><u>Show HN</u></strong> posts to show the Hacker News community a project, product, or just generally something interesting.\n",
    "\n",
    "We'll specifically compare these two types of posts to determine the following:\n",
    "\n",
    "<ul>\n",
    "<li>Do Ask HN or Show HN posts receive more comments on average?\n",
    "<li>Do posts created at a certain time receive more comments on       average?\n",
    "<li>Do Ask HN or Show HN posts obtain more points on average?\n",
    "<li>Do posts created at a certain time obtain more points on average?\n",
    "</ul>\n",
    "<br>\n",
    "<strong><u>Note:</u></strong>the data set we're working with was already reduced from almost 300,000 rows to approximately 20,000 rows by removing all submissions that did not receive any comments, and then randomly sampling from the remaining submissions"
   ]
  },
  {
   "cell_type": "markdown",
   "metadata": {},
   "source": [
    "# Introduction"
   ]
  },
  {
   "cell_type": "markdown",
   "metadata": {},
   "source": [
    "First, we will import the dataset, view it and remove the headers."
   ]
  },
  {
   "cell_type": "code",
   "execution_count": 26,
   "metadata": {
    "collapsed": false,
    "scrolled": true
   },
   "outputs": [
    {
     "data": {
      "text/html": [
       "<div>\n",
       "<style scoped>\n",
       "    .dataframe tbody tr th:only-of-type {\n",
       "        vertical-align: middle;\n",
       "    }\n",
       "\n",
       "    .dataframe tbody tr th {\n",
       "        vertical-align: top;\n",
       "    }\n",
       "\n",
       "    .dataframe thead th {\n",
       "        text-align: right;\n",
       "    }\n",
       "</style>\n",
       "<table border=\"1\" class=\"dataframe\">\n",
       "  <thead>\n",
       "    <tr style=\"text-align: right;\">\n",
       "      <th></th>\n",
       "      <th>id</th>\n",
       "      <th>title</th>\n",
       "      <th>url</th>\n",
       "      <th>num_points</th>\n",
       "      <th>num_comments</th>\n",
       "      <th>author</th>\n",
       "      <th>created_at</th>\n",
       "    </tr>\n",
       "  </thead>\n",
       "  <tbody>\n",
       "    <tr>\n",
       "      <th>0</th>\n",
       "      <td>12224879</td>\n",
       "      <td>Interactive Dynamic Video</td>\n",
       "      <td>http://www.interactivedynamicvideo.com/</td>\n",
       "      <td>386</td>\n",
       "      <td>52</td>\n",
       "      <td>ne0phyte</td>\n",
       "      <td>8/4/2016 11:52</td>\n",
       "    </tr>\n",
       "    <tr>\n",
       "      <th>1</th>\n",
       "      <td>10975351</td>\n",
       "      <td>How to Use Open Source and Shut the Fuck Up at...</td>\n",
       "      <td>http://hueniverse.com/2016/01/26/how-to-use-op...</td>\n",
       "      <td>39</td>\n",
       "      <td>10</td>\n",
       "      <td>josep2</td>\n",
       "      <td>1/26/2016 19:30</td>\n",
       "    </tr>\n",
       "    <tr>\n",
       "      <th>2</th>\n",
       "      <td>11964716</td>\n",
       "      <td>Florida DJs May Face Felony for April Fools' W...</td>\n",
       "      <td>http://www.thewire.com/entertainment/2013/04/f...</td>\n",
       "      <td>2</td>\n",
       "      <td>1</td>\n",
       "      <td>vezycash</td>\n",
       "      <td>6/23/2016 22:20</td>\n",
       "    </tr>\n",
       "    <tr>\n",
       "      <th>3</th>\n",
       "      <td>11919867</td>\n",
       "      <td>Technology ventures: From Idea to Enterprise</td>\n",
       "      <td>https://www.amazon.com/Technology-Ventures-Ent...</td>\n",
       "      <td>3</td>\n",
       "      <td>1</td>\n",
       "      <td>hswarna</td>\n",
       "      <td>6/17/2016 0:01</td>\n",
       "    </tr>\n",
       "    <tr>\n",
       "      <th>4</th>\n",
       "      <td>10301696</td>\n",
       "      <td>Note by Note: The Making of Steinway L1037 (2007)</td>\n",
       "      <td>http://www.nytimes.com/2007/11/07/movies/07ste...</td>\n",
       "      <td>8</td>\n",
       "      <td>2</td>\n",
       "      <td>walterbell</td>\n",
       "      <td>9/30/2015 4:12</td>\n",
       "    </tr>\n",
       "  </tbody>\n",
       "</table>\n",
       "</div>"
      ],
      "text/plain": [
       "         id                                              title  \\\n",
       "0  12224879                          Interactive Dynamic Video   \n",
       "1  10975351  How to Use Open Source and Shut the Fuck Up at...   \n",
       "2  11964716  Florida DJs May Face Felony for April Fools' W...   \n",
       "3  11919867       Technology ventures: From Idea to Enterprise   \n",
       "4  10301696  Note by Note: The Making of Steinway L1037 (2007)   \n",
       "\n",
       "                                                 url  num_points  \\\n",
       "0            http://www.interactivedynamicvideo.com/         386   \n",
       "1  http://hueniverse.com/2016/01/26/how-to-use-op...          39   \n",
       "2  http://www.thewire.com/entertainment/2013/04/f...           2   \n",
       "3  https://www.amazon.com/Technology-Ventures-Ent...           3   \n",
       "4  http://www.nytimes.com/2007/11/07/movies/07ste...           8   \n",
       "\n",
       "   num_comments      author       created_at  \n",
       "0            52    ne0phyte   8/4/2016 11:52  \n",
       "1            10      josep2  1/26/2016 19:30  \n",
       "2             1    vezycash  6/23/2016 22:20  \n",
       "3             1     hswarna   6/17/2016 0:01  \n",
       "4             2  walterbell   9/30/2015 4:12  "
      ]
     },
     "execution_count": 26,
     "metadata": {},
     "output_type": "execute_result"
    }
   ],
   "source": [
    "# Read in the data.\n",
    "import pandas as pd\n",
    "\n",
    "hn = pd.read_csv('hacker_news.csv')\n",
    "hn.head()"
   ]
  },
  {
   "cell_type": "code",
   "execution_count": 27,
   "metadata": {
    "collapsed": false
   },
   "outputs": [
    {
     "name": "stdout",
     "output_type": "stream",
     "text": [
      "Index(['id', 'title', 'url', 'num_points', 'num_comments', 'author',\n",
      "       'created_at'],\n",
      "      dtype='object')\n"
     ]
    }
   ],
   "source": [
    "headers = hn.columns\n",
    "print(headers)"
   ]
  },
  {
   "cell_type": "code",
   "execution_count": 28,
   "metadata": {
    "collapsed": false
   },
   "outputs": [
    {
     "data": {
      "text/html": [
       "<div>\n",
       "<style scoped>\n",
       "    .dataframe tbody tr th:only-of-type {\n",
       "        vertical-align: middle;\n",
       "    }\n",
       "\n",
       "    .dataframe tbody tr th {\n",
       "        vertical-align: top;\n",
       "    }\n",
       "\n",
       "    .dataframe thead th {\n",
       "        text-align: right;\n",
       "    }\n",
       "</style>\n",
       "<table border=\"1\" class=\"dataframe\">\n",
       "  <thead>\n",
       "    <tr style=\"text-align: right;\">\n",
       "      <th></th>\n",
       "      <th>0</th>\n",
       "      <th>1</th>\n",
       "      <th>2</th>\n",
       "      <th>3</th>\n",
       "      <th>4</th>\n",
       "      <th>5</th>\n",
       "      <th>6</th>\n",
       "    </tr>\n",
       "  </thead>\n",
       "  <tbody>\n",
       "    <tr>\n",
       "      <th>1</th>\n",
       "      <td>12224879</td>\n",
       "      <td>Interactive Dynamic Video</td>\n",
       "      <td>http://www.interactivedynamicvideo.com/</td>\n",
       "      <td>386</td>\n",
       "      <td>52</td>\n",
       "      <td>ne0phyte</td>\n",
       "      <td>8/4/2016 11:52</td>\n",
       "    </tr>\n",
       "    <tr>\n",
       "      <th>2</th>\n",
       "      <td>10975351</td>\n",
       "      <td>How to Use Open Source and Shut the Fuck Up at...</td>\n",
       "      <td>http://hueniverse.com/2016/01/26/how-to-use-op...</td>\n",
       "      <td>39</td>\n",
       "      <td>10</td>\n",
       "      <td>josep2</td>\n",
       "      <td>1/26/2016 19:30</td>\n",
       "    </tr>\n",
       "    <tr>\n",
       "      <th>3</th>\n",
       "      <td>11964716</td>\n",
       "      <td>Florida DJs May Face Felony for April Fools' W...</td>\n",
       "      <td>http://www.thewire.com/entertainment/2013/04/f...</td>\n",
       "      <td>2</td>\n",
       "      <td>1</td>\n",
       "      <td>vezycash</td>\n",
       "      <td>6/23/2016 22:20</td>\n",
       "    </tr>\n",
       "    <tr>\n",
       "      <th>4</th>\n",
       "      <td>11919867</td>\n",
       "      <td>Technology ventures: From Idea to Enterprise</td>\n",
       "      <td>https://www.amazon.com/Technology-Ventures-Ent...</td>\n",
       "      <td>3</td>\n",
       "      <td>1</td>\n",
       "      <td>hswarna</td>\n",
       "      <td>6/17/2016 0:01</td>\n",
       "    </tr>\n",
       "    <tr>\n",
       "      <th>5</th>\n",
       "      <td>10301696</td>\n",
       "      <td>Note by Note: The Making of Steinway L1037 (2007)</td>\n",
       "      <td>http://www.nytimes.com/2007/11/07/movies/07ste...</td>\n",
       "      <td>8</td>\n",
       "      <td>2</td>\n",
       "      <td>walterbell</td>\n",
       "      <td>9/30/2015 4:12</td>\n",
       "    </tr>\n",
       "  </tbody>\n",
       "</table>\n",
       "</div>"
      ],
      "text/plain": [
       "          0                                                  1  \\\n",
       "1  12224879                          Interactive Dynamic Video   \n",
       "2  10975351  How to Use Open Source and Shut the Fuck Up at...   \n",
       "3  11964716  Florida DJs May Face Felony for April Fools' W...   \n",
       "4  11919867       Technology ventures: From Idea to Enterprise   \n",
       "5  10301696  Note by Note: The Making of Steinway L1037 (2007)   \n",
       "\n",
       "                                                   2    3   4           5  \\\n",
       "1            http://www.interactivedynamicvideo.com/  386  52    ne0phyte   \n",
       "2  http://hueniverse.com/2016/01/26/how-to-use-op...   39  10      josep2   \n",
       "3  http://www.thewire.com/entertainment/2013/04/f...    2   1    vezycash   \n",
       "4  https://www.amazon.com/Technology-Ventures-Ent...    3   1     hswarna   \n",
       "5  http://www.nytimes.com/2007/11/07/movies/07ste...    8   2  walterbell   \n",
       "\n",
       "                 6  \n",
       "1   8/4/2016 11:52  \n",
       "2  1/26/2016 19:30  \n",
       "3  6/23/2016 22:20  \n",
       "4   6/17/2016 0:01  \n",
       "5   9/30/2015 4:12  "
      ]
     },
     "execution_count": 28,
     "metadata": {},
     "output_type": "execute_result"
    }
   ],
   "source": [
    "hn = pd.read_csv('hacker_news.csv', header = None)\n",
    "hn.drop(index = 0, inplace = True)\n",
    "hn.head()"
   ]
  },
  {
   "cell_type": "markdown",
   "metadata": {},
   "source": [
    "# Extracting Ask HN and Show HN posts"
   ]
  },
  {
   "cell_type": "code",
   "execution_count": 29,
   "metadata": {
    "collapsed": false
   },
   "outputs": [
    {
     "name": "stdout",
     "output_type": "stream",
     "text": [
      "Number of ask hn posts: 1744\n",
      "Number of show hn posts: 1162\n",
      "Number of other posts: 17194\n"
     ]
    }
   ],
   "source": [
    "# Identify posts that begin with either `Ask HN` or `Show HN` and separate the data into different lists.\n",
    "ask_posts = []\n",
    "show_posts =[]\n",
    "other_posts = []\n",
    "\n",
    "for j, i in hn.iterrows():\n",
    "    title = i[1]\n",
    "    if title.lower().startswith(\"ask hn\"):\n",
    "        ask_posts.append(i)\n",
    "    elif title.lower().startswith(\"show hn\"):\n",
    "        show_posts.append(i)\n",
    "    else:\n",
    "        other_posts.append(i)\n",
    "        \n",
    "print(\"Number of ask hn posts:\", len(ask_posts))\n",
    "print(\"Number of show hn posts:\", len(show_posts))\n",
    "print(\"Number of other posts:\", len(other_posts))"
   ]
  },
  {
   "cell_type": "markdown",
   "metadata": {},
   "source": [
    "# Calculating average number of comments on Ask HN and Show HN posts"
   ]
  },
  {
   "cell_type": "code",
   "execution_count": 30,
   "metadata": {
    "collapsed": false
   },
   "outputs": [
    {
     "name": "stdout",
     "output_type": "stream",
     "text": [
      "Average number of comments per 'Ask HN' post: 14\n"
     ]
    }
   ],
   "source": [
    "total_ask_comments = 0\n",
    "\n",
    "for post in ask_posts:\n",
    "    total_ask_comments += int(post[4])\n",
    "    \n",
    "avg_ask_comments = total_ask_comments / len(ask_posts)\n",
    "print(\"Average number of comments per 'Ask HN' post:\", int(avg_ask_comments))"
   ]
  },
  {
   "cell_type": "code",
   "execution_count": 31,
   "metadata": {
    "collapsed": false
   },
   "outputs": [
    {
     "name": "stdout",
     "output_type": "stream",
     "text": [
      "Average number of comments per 'Show HN' post: 10\n"
     ]
    }
   ],
   "source": [
    "total_show_comments = 0\n",
    "\n",
    "for post in show_posts:\n",
    "    total_show_comments += int(post[4])\n",
    "    \n",
    "avg_show_comments = total_show_comments / len(show_posts)\n",
    "print(\"Average number of comments per 'Show HN' post:\", int(avg_show_comments))"
   ]
  },
  {
   "cell_type": "markdown",
   "metadata": {},
   "source": [
    "\n",
    "Thus, on average, Ask HN posts in our sample receive approximately 4 more comments as compared to Show HN posts."
   ]
  },
  {
   "cell_type": "markdown",
   "metadata": {},
   "source": [
    "# Calculating the best time for posting Ask HN posts to get comments"
   ]
  },
  {
   "cell_type": "markdown",
   "metadata": {},
   "source": [
    "Now, we'll determine if we can maximize the amount of comments an Ask HN post receives by creating it at a certain time. First, we'll find the amount of Ask HN posts created during each hour of day, along with the number of comments those posts received. Then, we'll calculate the average amount of comments Ask HN posts created at each hour of the day receive. Finally, we'll sort the list and  retrieve the top 5 times to get most comments on Ask HN posts."
   ]
  },
  {
   "cell_type": "code",
   "execution_count": 32,
   "metadata": {
    "collapsed": true
   },
   "outputs": [],
   "source": [
    "# importing datetime for parsing dates and times\n",
    "import datetime as dt"
   ]
  },
  {
   "cell_type": "code",
   "execution_count": 33,
   "metadata": {
    "collapsed": false
   },
   "outputs": [
    {
     "data": {
      "text/plain": [
       "{0: 447,\n",
       " 1: 683,\n",
       " 2: 1381,\n",
       " 3: 421,\n",
       " 4: 337,\n",
       " 5: 464,\n",
       " 6: 397,\n",
       " 7: 267,\n",
       " 8: 492,\n",
       " 9: 251,\n",
       " 10: 793,\n",
       " 11: 641,\n",
       " 12: 687,\n",
       " 13: 1253,\n",
       " 14: 1416,\n",
       " 15: 4477,\n",
       " 16: 1814,\n",
       " 17: 1146,\n",
       " 18: 1439,\n",
       " 19: 1188,\n",
       " 20: 1722,\n",
       " 21: 1745,\n",
       " 22: 479,\n",
       " 23: 543}"
      ]
     },
     "execution_count": 33,
     "metadata": {},
     "output_type": "execute_result"
    }
   ],
   "source": [
    "# finding total comments on ask hn posts at different times\n",
    "\n",
    "result_list = []\n",
    "\n",
    "for post in ask_posts:\n",
    "    result_list.append([post[6], int(post[4])])\n",
    "\n",
    "comments_by_hour = {}\n",
    "counts_by_hour = {}\n",
    "date_format = \"%m/%d/%Y %H:%M\"\n",
    "\n",
    "for each_row in result_list:\n",
    "    date = each_row[0]\n",
    "    comment = each_row[1]\n",
    "    time = dt.datetime.strptime(date, date_format).hour\n",
    "    if time in counts_by_hour:\n",
    "        comments_by_hour[time] += comment\n",
    "        counts_by_hour[time] += 1\n",
    "    else:\n",
    "        comments_by_hour[time] = comment\n",
    "        counts_by_hour[time] = 1\n",
    "\n",
    "comments_by_hour"
   ]
  },
  {
   "cell_type": "code",
   "execution_count": 34,
   "metadata": {
    "collapsed": false
   },
   "outputs": [
    {
     "data": {
      "text/plain": [
       "[[0, 8.127272727272727],\n",
       " [1, 11.383333333333333],\n",
       " [2, 23.810344827586206],\n",
       " [3, 7.796296296296297],\n",
       " [4, 7.170212765957447],\n",
       " [5, 10.08695652173913],\n",
       " [6, 9.022727272727273],\n",
       " [7, 7.852941176470588],\n",
       " [8, 10.25],\n",
       " [9, 5.5777777777777775],\n",
       " [10, 13.440677966101696],\n",
       " [11, 11.051724137931034],\n",
       " [12, 9.41095890410959],\n",
       " [13, 14.741176470588234],\n",
       " [14, 13.233644859813085],\n",
       " [15, 38.5948275862069],\n",
       " [16, 16.796296296296298],\n",
       " [17, 11.46],\n",
       " [18, 13.20183486238532],\n",
       " [19, 10.8],\n",
       " [20, 21.525],\n",
       " [21, 16.009174311926607],\n",
       " [22, 6.746478873239437],\n",
       " [23, 7.985294117647059]]"
      ]
     },
     "execution_count": 34,
     "metadata": {},
     "output_type": "execute_result"
    }
   ],
   "source": [
    "# calculating the average comments per ask hn post at various different times\n",
    "avg_by_hour = []\n",
    "\n",
    "for hr in comments_by_hour:\n",
    "    avg_by_hour.append([hr, comments_by_hour[hr] / counts_by_hour[hr]])\n",
    "\n",
    "avg_by_hour"
   ]
  },
  {
   "cell_type": "code",
   "execution_count": 35,
   "metadata": {
    "collapsed": false
   },
   "outputs": [
    {
     "data": {
      "text/plain": [
       "[[38.5948275862069, 15],\n",
       " [23.810344827586206, 2],\n",
       " [21.525, 20],\n",
       " [16.796296296296298, 16],\n",
       " [16.009174311926607, 21],\n",
       " [14.741176470588234, 13],\n",
       " [13.440677966101696, 10],\n",
       " [13.233644859813085, 14],\n",
       " [13.20183486238532, 18],\n",
       " [11.46, 17],\n",
       " [11.383333333333333, 1],\n",
       " [11.051724137931034, 11],\n",
       " [10.8, 19],\n",
       " [10.25, 8],\n",
       " [10.08695652173913, 5],\n",
       " [9.41095890410959, 12],\n",
       " [9.022727272727273, 6],\n",
       " [8.127272727272727, 0],\n",
       " [7.985294117647059, 23],\n",
       " [7.852941176470588, 7],\n",
       " [7.796296296296297, 3],\n",
       " [7.170212765957447, 4],\n",
       " [6.746478873239437, 22],\n",
       " [5.5777777777777775, 9]]"
      ]
     },
     "execution_count": 35,
     "metadata": {},
     "output_type": "execute_result"
    }
   ],
   "source": [
    "# sorting the list\n",
    "swap_avg_by_hour = []\n",
    "\n",
    "for row in avg_by_hour:\n",
    "    swap_avg_by_hour.append([row[1], row[0]])\n",
    "    \n",
    "\n",
    "sorted_swap = sorted(swap_avg_by_hour, reverse=True)\n",
    "\n",
    "sorted_swap"
   ]
  },
  {
   "cell_type": "code",
   "execution_count": 36,
   "metadata": {
    "collapsed": false
   },
   "outputs": [
    {
     "name": "stdout",
     "output_type": "stream",
     "text": [
      "Top 5 Hours for 'Ask HN' Comments\n",
      "\n",
      "15:00: 38.59 average comments per post\n",
      "2:00: 23.81 average comments per post\n",
      "20:00: 21.52 average comments per post\n",
      "16:00: 16.80 average comments per post\n",
      "21:00: 16.01 average comments per post\n"
     ]
    }
   ],
   "source": [
    "# retreiving the top 5 times\n",
    "print(\"Top 5 Hours for 'Ask HN' Comments\\n\")\n",
    "\n",
    "for i in range(5):\n",
    "    print(\"{}:00: {:.2f} average comments per post\".format(sorted_swap[i][1],sorted_swap[i][0]))"
   ]
  },
  {
   "cell_type": "markdown",
   "metadata": {
    "collapsed": true
   },
   "source": [
    "# Calculating the best time for posting Show HN posts to get comments"
   ]
  },
  {
   "cell_type": "markdown",
   "metadata": {
    "collapsed": true
   },
   "source": [
    "Here, we'll determine if we can maximize the amount of comments an Show HN post receives by creating it at a certain time. First, we'll find the amount of Show HN posts created during each hour of day, along with the number of comments those posts received. Then, we'll calculate the average amount of comments Show HN posts created at each hour of the day receive. Finally, we'll sort the list and  retrieve the top 5 times to get most comments on Show HN posts.\n",
    "\n",
    "The code will remain almost similar as used for Ask HN posts."
   ]
  },
  {
   "cell_type": "code",
   "execution_count": 37,
   "metadata": {
    "collapsed": false
   },
   "outputs": [
    {
     "data": {
      "text/plain": [
       "{0: 487,\n",
       " 1: 246,\n",
       " 2: 127,\n",
       " 3: 287,\n",
       " 4: 247,\n",
       " 5: 58,\n",
       " 6: 142,\n",
       " 7: 299,\n",
       " 8: 165,\n",
       " 9: 291,\n",
       " 10: 297,\n",
       " 11: 491,\n",
       " 12: 720,\n",
       " 13: 946,\n",
       " 14: 1156,\n",
       " 15: 632,\n",
       " 16: 1084,\n",
       " 17: 911,\n",
       " 18: 962,\n",
       " 19: 539,\n",
       " 20: 612,\n",
       " 21: 272,\n",
       " 22: 570,\n",
       " 23: 447}"
      ]
     },
     "execution_count": 37,
     "metadata": {},
     "output_type": "execute_result"
    }
   ],
   "source": [
    "# finding total comments on show hn posts at different times\n",
    "\n",
    "result_list = []\n",
    "\n",
    "for post in show_posts:\n",
    "    result_list.append([post[6], int(post[4])])\n",
    "\n",
    "comments_by_hour = {}\n",
    "counts_by_hour = {}\n",
    "date_format = \"%m/%d/%Y %H:%M\"\n",
    "\n",
    "for each_row in result_list:\n",
    "    date = each_row[0]\n",
    "    comment = each_row[1]\n",
    "    time = dt.datetime.strptime(date, date_format).hour\n",
    "    if time in counts_by_hour:\n",
    "        comments_by_hour[time] += comment\n",
    "        counts_by_hour[time] += 1\n",
    "    else:\n",
    "        comments_by_hour[time] = comment\n",
    "        counts_by_hour[time] = 1\n",
    "\n",
    "comments_by_hour"
   ]
  },
  {
   "cell_type": "code",
   "execution_count": 38,
   "metadata": {
    "collapsed": false
   },
   "outputs": [
    {
     "data": {
      "text/plain": [
       "[[0, 15.709677419354838],\n",
       " [1, 8.785714285714286],\n",
       " [2, 4.233333333333333],\n",
       " [3, 10.62962962962963],\n",
       " [4, 9.5],\n",
       " [5, 3.0526315789473686],\n",
       " [6, 8.875],\n",
       " [7, 11.5],\n",
       " [8, 4.852941176470588],\n",
       " [9, 9.7],\n",
       " [10, 8.25],\n",
       " [11, 11.159090909090908],\n",
       " [12, 11.80327868852459],\n",
       " [13, 9.555555555555555],\n",
       " [14, 13.44186046511628],\n",
       " [15, 8.102564102564102],\n",
       " [16, 11.655913978494624],\n",
       " [17, 9.795698924731182],\n",
       " [18, 15.770491803278688],\n",
       " [19, 9.8],\n",
       " [20, 10.2],\n",
       " [21, 5.787234042553192],\n",
       " [22, 12.391304347826088],\n",
       " [23, 12.416666666666666]]"
      ]
     },
     "execution_count": 38,
     "metadata": {},
     "output_type": "execute_result"
    }
   ],
   "source": [
    "# calculating the average comments per show hn post at various different times\n",
    "\n",
    "avg_by_hour = []\n",
    "\n",
    "for hr in comments_by_hour:\n",
    "    avg_by_hour.append([hr, comments_by_hour[hr] / counts_by_hour[hr]])\n",
    "\n",
    "avg_by_hour"
   ]
  },
  {
   "cell_type": "code",
   "execution_count": 39,
   "metadata": {
    "collapsed": false
   },
   "outputs": [
    {
     "data": {
      "text/plain": [
       "[[15.770491803278688, 18],\n",
       " [15.709677419354838, 0],\n",
       " [13.44186046511628, 14],\n",
       " [12.416666666666666, 23],\n",
       " [12.391304347826088, 22],\n",
       " [11.80327868852459, 12],\n",
       " [11.655913978494624, 16],\n",
       " [11.5, 7],\n",
       " [11.159090909090908, 11],\n",
       " [10.62962962962963, 3],\n",
       " [10.2, 20],\n",
       " [9.8, 19],\n",
       " [9.795698924731182, 17],\n",
       " [9.7, 9],\n",
       " [9.555555555555555, 13],\n",
       " [9.5, 4],\n",
       " [8.875, 6],\n",
       " [8.785714285714286, 1],\n",
       " [8.25, 10],\n",
       " [8.102564102564102, 15],\n",
       " [5.787234042553192, 21],\n",
       " [4.852941176470588, 8],\n",
       " [4.233333333333333, 2],\n",
       " [3.0526315789473686, 5]]"
      ]
     },
     "execution_count": 39,
     "metadata": {},
     "output_type": "execute_result"
    }
   ],
   "source": [
    "# sorting the list\n",
    "\n",
    "swap_avg_by_hour = []\n",
    "\n",
    "for row in avg_by_hour:\n",
    "    swap_avg_by_hour.append([row[1], row[0]])\n",
    "    \n",
    "\n",
    "sorted_swap = sorted(swap_avg_by_hour, reverse=True)\n",
    "\n",
    "sorted_swap"
   ]
  },
  {
   "cell_type": "code",
   "execution_count": 40,
   "metadata": {
    "collapsed": false
   },
   "outputs": [
    {
     "name": "stdout",
     "output_type": "stream",
     "text": [
      "Top 5 Hours for 'Show HN' Comments\n",
      "\n",
      "18:00: 15.77 average comments per post\n",
      "0:00: 15.71 average comments per post\n",
      "14:00: 13.44 average comments per post\n",
      "23:00: 12.42 average comments per post\n",
      "22:00: 12.39 average comments per post\n"
     ]
    }
   ],
   "source": [
    "# retreiving the top 5 times\n",
    "\n",
    "print(\"Top 5 Hours for 'Show HN' Comments\\n\")\n",
    "\n",
    "for i in range(5):\n",
    "    print(\"{}:00: {:.2f} average comments per post\".format(sorted_swap[i][1],sorted_swap[i][0]))"
   ]
  },
  {
   "cell_type": "markdown",
   "metadata": {
    "collapsed": true
   },
   "source": [
    "# Calculating average number of points obtained by Ask HN and Show HN posts"
   ]
  },
  {
   "cell_type": "code",
   "execution_count": 41,
   "metadata": {
    "collapsed": false
   },
   "outputs": [
    {
     "name": "stdout",
     "output_type": "stream",
     "text": [
      "Average points per 'Ask HN' post: 15\n"
     ]
    }
   ],
   "source": [
    "total_ask_points = 0\n",
    "\n",
    "for post in ask_posts:\n",
    "    total_ask_points += int(post[3])\n",
    "\n",
    "avg_ask_points = total_ask_points / len(ask_posts)\n",
    "print(\"Average points per 'Ask HN' post:\", int(avg_ask_points))"
   ]
  },
  {
   "cell_type": "code",
   "execution_count": 42,
   "metadata": {
    "collapsed": false
   },
   "outputs": [
    {
     "name": "stdout",
     "output_type": "stream",
     "text": [
      "Average points per 'Show HN' post: 27\n"
     ]
    }
   ],
   "source": [
    "total_show_points = 0\n",
    "\n",
    "for post in show_posts:\n",
    "    total_show_points += int(post[3])\n",
    "\n",
    "avg_show_points = total_show_points / len(show_posts)\n",
    "print(\"Average points per 'Show HN' post:\", int(avg_show_points))"
   ]
  },
  {
   "cell_type": "markdown",
   "metadata": {
    "collapsed": true
   },
   "source": [
    "Thus, on average Show HN posts get around 80% more points than Ask HN posts."
   ]
  },
  {
   "cell_type": "markdown",
   "metadata": {},
   "source": [
    "# Calculating the best time for posting Ask HN posts to get maximum points"
   ]
  },
  {
   "cell_type": "markdown",
   "metadata": {},
   "source": [
    "Now, we'll determine if we can maximize the amount of points obtained by an Ask HN post by creating it at a certain time. First, we'll find the amount of Ask HN posts created during each hour of day, along with the points those posts received. Then, we'll calculate the average amount of points Ask HN posts created at each hour of the day receive. Finally, we'll sort the list and  retrieve the top 5 times to get most points on Ask HN posts.\n"
   ]
  },
  {
   "cell_type": "code",
   "execution_count": 43,
   "metadata": {
    "collapsed": false
   },
   "outputs": [
    {
     "data": {
      "text/plain": [
       "{0: 451,\n",
       " 1: 700,\n",
       " 2: 793,\n",
       " 3: 374,\n",
       " 4: 389,\n",
       " 5: 552,\n",
       " 6: 591,\n",
       " 7: 361,\n",
       " 8: 515,\n",
       " 9: 329,\n",
       " 10: 1102,\n",
       " 11: 825,\n",
       " 12: 782,\n",
       " 13: 2062,\n",
       " 14: 1282,\n",
       " 15: 3479,\n",
       " 16: 2522,\n",
       " 17: 1941,\n",
       " 18: 1741,\n",
       " 19: 1513,\n",
       " 20: 1151,\n",
       " 21: 1721,\n",
       " 22: 511,\n",
       " 23: 581}"
      ]
     },
     "execution_count": 43,
     "metadata": {},
     "output_type": "execute_result"
    }
   ],
   "source": [
    "# finding total points on ask hn posts at different times\n",
    "\n",
    "result_list = []\n",
    "\n",
    "for post in ask_posts:\n",
    "    result_list.append([post[6], int(post[3])])\n",
    "\n",
    "points_by_hour = {}\n",
    "counts_by_hour = {}\n",
    "date_format = \"%m/%d/%Y %H:%M\"\n",
    "\n",
    "for each_row in result_list:\n",
    "    date = each_row[0]\n",
    "    points = each_row[1]\n",
    "    time = dt.datetime.strptime(date, date_format).hour\n",
    "    if time in counts_by_hour:\n",
    "        points_by_hour[time] += points\n",
    "        counts_by_hour[time] += 1\n",
    "    else:\n",
    "        points_by_hour[time] = points\n",
    "        counts_by_hour[time] = 1\n",
    "\n",
    "points_by_hour"
   ]
  },
  {
   "cell_type": "code",
   "execution_count": 44,
   "metadata": {
    "collapsed": false
   },
   "outputs": [
    {
     "data": {
      "text/plain": [
       "[[0, 8.2],\n",
       " [1, 11.666666666666666],\n",
       " [2, 13.672413793103448],\n",
       " [3, 6.925925925925926],\n",
       " [4, 8.27659574468085],\n",
       " [5, 12.0],\n",
       " [6, 13.431818181818182],\n",
       " [7, 10.617647058823529],\n",
       " [8, 10.729166666666666],\n",
       " [9, 7.311111111111111],\n",
       " [10, 18.677966101694917],\n",
       " [11, 14.224137931034482],\n",
       " [12, 10.712328767123287],\n",
       " [13, 24.258823529411764],\n",
       " [14, 11.981308411214954],\n",
       " [15, 29.99137931034483],\n",
       " [16, 23.35185185185185],\n",
       " [17, 19.41],\n",
       " [18, 15.972477064220184],\n",
       " [19, 13.754545454545454],\n",
       " [20, 14.3875],\n",
       " [21, 15.788990825688073],\n",
       " [22, 7.197183098591549],\n",
       " [23, 8.544117647058824]]"
      ]
     },
     "execution_count": 44,
     "metadata": {},
     "output_type": "execute_result"
    }
   ],
   "source": [
    "# calculating the average points per ask hn post at various different times\n",
    "\n",
    "avg_by_hour = []\n",
    "\n",
    "for hr in points_by_hour:\n",
    "    avg_by_hour.append([hr, points_by_hour[hr] / counts_by_hour[hr]])\n",
    "\n",
    "avg_by_hour"
   ]
  },
  {
   "cell_type": "code",
   "execution_count": 45,
   "metadata": {
    "collapsed": false
   },
   "outputs": [
    {
     "data": {
      "text/plain": [
       "[[29.99137931034483, 15],\n",
       " [24.258823529411764, 13],\n",
       " [23.35185185185185, 16],\n",
       " [19.41, 17],\n",
       " [18.677966101694917, 10],\n",
       " [15.972477064220184, 18],\n",
       " [15.788990825688073, 21],\n",
       " [14.3875, 20],\n",
       " [14.224137931034482, 11],\n",
       " [13.754545454545454, 19],\n",
       " [13.672413793103448, 2],\n",
       " [13.431818181818182, 6],\n",
       " [12.0, 5],\n",
       " [11.981308411214954, 14],\n",
       " [11.666666666666666, 1],\n",
       " [10.729166666666666, 8],\n",
       " [10.712328767123287, 12],\n",
       " [10.617647058823529, 7],\n",
       " [8.544117647058824, 23],\n",
       " [8.27659574468085, 4],\n",
       " [8.2, 0],\n",
       " [7.311111111111111, 9],\n",
       " [7.197183098591549, 22],\n",
       " [6.925925925925926, 3]]"
      ]
     },
     "execution_count": 45,
     "metadata": {},
     "output_type": "execute_result"
    }
   ],
   "source": [
    "# sorting the list\n",
    "\n",
    "swap_avg_by_hour = []\n",
    "\n",
    "for row in avg_by_hour:\n",
    "    swap_avg_by_hour.append([row[1], row[0]])\n",
    "    \n",
    "\n",
    "sorted_swap = sorted(swap_avg_by_hour, reverse=True)\n",
    "\n",
    "sorted_swap"
   ]
  },
  {
   "cell_type": "code",
   "execution_count": 46,
   "metadata": {
    "collapsed": false
   },
   "outputs": [
    {
     "name": "stdout",
     "output_type": "stream",
     "text": [
      "Top 5 Hours for 'Ask HN' Points\n",
      "\n",
      "15:00: 29.99 average points per post\n",
      "13:00: 24.26 average points per post\n",
      "16:00: 23.35 average points per post\n",
      "17:00: 19.41 average points per post\n",
      "10:00: 18.68 average points per post\n"
     ]
    }
   ],
   "source": [
    "# retrieving top 5 times\n",
    "print(\"Top 5 Hours for 'Ask HN' Points\\n\")\n",
    "\n",
    "for i in range(5):\n",
    "    print(\"{}:00: {:.2f} average points per post\".format(sorted_swap[i][1],sorted_swap[i][0]))"
   ]
  },
  {
   "cell_type": "markdown",
   "metadata": {
    "collapsed": true
   },
   "source": [
    "# Calculating the best time for posting Show HN posts to get maximum points"
   ]
  },
  {
   "cell_type": "markdown",
   "metadata": {},
   "source": [
    "Now, we'll determine if we can maximize the amount of points obtained by an Show HN post by creating it at a certain time. First, we'll find the amount of Show HN posts created during each hour of day, along with the points those posts received. Then, we'll calculate the average amount of points Show HN posts created at each hour of the day receive. Finally, we'll sort the list and retrieve the top 5 times to get most points on Show HN posts."
   ]
  },
  {
   "cell_type": "code",
   "execution_count": 47,
   "metadata": {
    "collapsed": false
   },
   "outputs": [
    {
     "data": {
      "text/plain": [
       "{0: 1173,\n",
       " 1: 700,\n",
       " 2: 340,\n",
       " 3: 679,\n",
       " 4: 386,\n",
       " 5: 104,\n",
       " 6: 375,\n",
       " 7: 494,\n",
       " 8: 519,\n",
       " 9: 553,\n",
       " 10: 681,\n",
       " 11: 1480,\n",
       " 12: 2543,\n",
       " 13: 2438,\n",
       " 14: 2187,\n",
       " 15: 2228,\n",
       " 16: 2634,\n",
       " 17: 2521,\n",
       " 18: 2215,\n",
       " 19: 1702,\n",
       " 20: 1819,\n",
       " 21: 866,\n",
       " 22: 1856,\n",
       " 23: 1526}"
      ]
     },
     "execution_count": 47,
     "metadata": {},
     "output_type": "execute_result"
    }
   ],
   "source": [
    "# finding total points on show hn posts at different times\n",
    "\n",
    "\n",
    "result_list = []\n",
    "\n",
    "for post in show_posts:\n",
    "    result_list.append([post[6], int(post[3])])\n",
    "\n",
    "points_by_hour = {}\n",
    "counts_by_hour = {}\n",
    "date_format = \"%m/%d/%Y %H:%M\"\n",
    "\n",
    "for each_row in result_list:\n",
    "    date = each_row[0]\n",
    "    points = each_row[1]\n",
    "    time = dt.datetime.strptime(date, date_format).hour\n",
    "    if time in counts_by_hour:\n",
    "        points_by_hour[time] += points\n",
    "        counts_by_hour[time] += 1\n",
    "    else:\n",
    "        points_by_hour[time] = points\n",
    "        counts_by_hour[time] = 1\n",
    "\n",
    "points_by_hour"
   ]
  },
  {
   "cell_type": "code",
   "execution_count": 48,
   "metadata": {
    "collapsed": false
   },
   "outputs": [
    {
     "data": {
      "text/plain": [
       "[[0, 37.83870967741935],\n",
       " [1, 25.0],\n",
       " [2, 11.333333333333334],\n",
       " [3, 25.14814814814815],\n",
       " [4, 14.846153846153847],\n",
       " [5, 5.473684210526316],\n",
       " [6, 23.4375],\n",
       " [7, 19.0],\n",
       " [8, 15.264705882352942],\n",
       " [9, 18.433333333333334],\n",
       " [10, 18.916666666666668],\n",
       " [11, 33.63636363636363],\n",
       " [12, 41.68852459016394],\n",
       " [13, 24.626262626262626],\n",
       " [14, 25.430232558139537],\n",
       " [15, 28.564102564102566],\n",
       " [16, 28.322580645161292],\n",
       " [17, 27.107526881720432],\n",
       " [18, 36.31147540983606],\n",
       " [19, 30.945454545454545],\n",
       " [20, 30.316666666666666],\n",
       " [21, 18.425531914893618],\n",
       " [22, 40.34782608695652],\n",
       " [23, 42.388888888888886]]"
      ]
     },
     "execution_count": 48,
     "metadata": {},
     "output_type": "execute_result"
    }
   ],
   "source": [
    "# calculating the average points per show hn post at various different times\n",
    "\n",
    "avg_by_hour = []\n",
    "\n",
    "for hr in points_by_hour:\n",
    "    avg_by_hour.append([hr, points_by_hour[hr] / counts_by_hour[hr]])\n",
    "\n",
    "avg_by_hour"
   ]
  },
  {
   "cell_type": "code",
   "execution_count": 49,
   "metadata": {
    "collapsed": false
   },
   "outputs": [
    {
     "data": {
      "text/plain": [
       "[[42.388888888888886, 23],\n",
       " [41.68852459016394, 12],\n",
       " [40.34782608695652, 22],\n",
       " [37.83870967741935, 0],\n",
       " [36.31147540983606, 18],\n",
       " [33.63636363636363, 11],\n",
       " [30.945454545454545, 19],\n",
       " [30.316666666666666, 20],\n",
       " [28.564102564102566, 15],\n",
       " [28.322580645161292, 16],\n",
       " [27.107526881720432, 17],\n",
       " [25.430232558139537, 14],\n",
       " [25.14814814814815, 3],\n",
       " [25.0, 1],\n",
       " [24.626262626262626, 13],\n",
       " [23.4375, 6],\n",
       " [19.0, 7],\n",
       " [18.916666666666668, 10],\n",
       " [18.433333333333334, 9],\n",
       " [18.425531914893618, 21],\n",
       " [15.264705882352942, 8],\n",
       " [14.846153846153847, 4],\n",
       " [11.333333333333334, 2],\n",
       " [5.473684210526316, 5]]"
      ]
     },
     "execution_count": 49,
     "metadata": {},
     "output_type": "execute_result"
    }
   ],
   "source": [
    "# sorting the list\n",
    "swap_avg_by_hour = []\n",
    "\n",
    "for row in avg_by_hour:\n",
    "    swap_avg_by_hour.append([row[1], row[0]])\n",
    "    \n",
    "\n",
    "sorted_swap = sorted(swap_avg_by_hour, reverse=True)\n",
    "\n",
    "sorted_swap"
   ]
  },
  {
   "cell_type": "code",
   "execution_count": 50,
   "metadata": {
    "collapsed": false
   },
   "outputs": [
    {
     "name": "stdout",
     "output_type": "stream",
     "text": [
      "Top 5 Hours for 'Show HN' Points\n",
      "\n",
      "23:00: 42.39 average points per post\n",
      "12:00: 41.69 average points per post\n",
      "22:00: 40.35 average points per post\n",
      "0:00: 37.84 average points per post\n",
      "18:00: 36.31 average points per post\n"
     ]
    }
   ],
   "source": [
    "# retrieving top 5 times\n",
    "print(\"Top 5 Hours for 'Show HN' Points\\n\")\n",
    "\n",
    "for i in range(5):\n",
    "    print(\"{}:00: {:.2f} average points per post\".format(sorted_swap[i][1],sorted_swap[i][0]))\n",
    "    \n"
   ]
  },
  {
   "cell_type": "markdown",
   "metadata": {
    "collapsed": true
   },
   "source": [
    "# Conclusion"
   ]
  },
  {
   "cell_type": "markdown",
   "metadata": {
    "collapsed": true
   },
   "source": [
    "In this project, we analyzed Ask HN posts and Show HN posts to determine which type of post and time receive the most comments and points on average. Based on our analysis, to maximize the amount of comments a post receives, it's better to categorize the post as Ask HN post and create it between 15:00 and 16:00 (3:00 pm est - 4:00 pm est).\n",
    "\n",
    "However, it should be noted that the data set we analyzed excluded posts without any comments. Given that, it's more accurate to say that of the posts that received comments, ask posts received more comments on average and ask posts created between 15:00 and 16:00 (3:00 pm est - 4:00 pm est) received the most comments on average.\n",
    "\n",
    "Similarly, for obtaining the maximum points, it's better to categorize the post as Show HN post and create it between 22:00 to 23:00 (10:00 pm est - 11:00 pm est)."
   ]
  }
 ],
 "metadata": {
  "kernelspec": {
   "display_name": "Python 3",
   "language": "python",
   "name": "python3"
  },
  "language_info": {
   "codemirror_mode": {
    "name": "ipython",
    "version": 3
   },
   "file_extension": ".py",
   "mimetype": "text/x-python",
   "name": "python",
   "nbconvert_exporter": "python",
   "pygments_lexer": "ipython3",
   "version": "3.4.3"
  }
 },
 "nbformat": 4,
 "nbformat_minor": 2
}
